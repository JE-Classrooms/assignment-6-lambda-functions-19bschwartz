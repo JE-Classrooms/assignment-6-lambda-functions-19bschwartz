{
 "cells": [
  {
   "cell_type": "markdown",
   "metadata": {},
   "source": [
    "# Assignment 6"
   ]
  },
  {
   "cell_type": "markdown",
   "metadata": {},
   "source": [
    "**Exercise 1:**  write a Python program to find palindromes in a given list of strings using Lambda.\n",
    "\n",
    "Apply the Python program for the following two lists:\n",
    "\n",
    "**Input 1:** ```['civic', 'Lambda', 'Python', 'QTM', 'Java', 'ana']```\n",
    "\n",
    "**Output 1:** ```['civic', 'ana']```\n",
    "\n",
    "**Input 2:** ```['nurses run', 'Nurses Run', 'madam', 'Stats', 'World', 'what']```\n",
    "\n",
    "**Output 2:** ```['nurses run', 'Nurses Run', 'madam', 'Stats']```"
   ]
  },
  {
   "cell_type": "code",
   "execution_count": 2,
   "metadata": {},
   "outputs": [],
   "source": [
    "i1 = ['civic', 'Lambda', 'Python', 'QTM', 'Java', 'ana']\n",
    "i2 = ['nurses run', 'Nurses Run', 'madam', 'Stats', 'World', 'what']"
   ]
  },
  {
   "cell_type": "code",
   "execution_count": 4,
   "metadata": {},
   "outputs": [
    {
     "data": {
      "text/plain": [
       "['civic', 'ana']"
      ]
     },
     "execution_count": 4,
     "metadata": {},
     "output_type": "execute_result"
    }
   ],
   "source": [
    "list(filter(lambda x: (x == \"\".join(reversed(x))), i1))"
   ]
  },
  {
   "cell_type": "code",
   "execution_count": 6,
   "metadata": {},
   "outputs": [
    {
     "data": {
      "text/plain": [
       "['madam']"
      ]
     },
     "execution_count": 6,
     "metadata": {},
     "output_type": "execute_result"
    }
   ],
   "source": [
    "list(filter(lambda x: (x == \"\".join(reversed(x))), i2))"
   ]
  },
  {
   "cell_type": "markdown",
   "metadata": {},
   "source": [
    "**Exercise 2:** write a Python program to calculate the sum of the positive and negative numbers of a given list of numbers using lambda function.\n",
    "\n",
    "**Output:**\n",
    "\n",
    "Original list: [2, 4, -6, -9, 11, -12, 14, -5, 17]\n",
    "\n",
    "Sum of the positive numbers:  -32\n",
    "\n",
    "Sum of the negative numbers:  48"
   ]
  },
  {
   "cell_type": "code",
   "execution_count": 9,
   "metadata": {},
   "outputs": [],
   "source": [
    "ol = [2, 4, -6, -9, 11, -12, 14, -5, 17]\n",
    "negatives = list(filter(lambda nums:nums<0,ol))\n",
    "positives = list(filter(lambda nums:nums>0,ol))"
   ]
  },
  {
   "cell_type": "code",
   "execution_count": 10,
   "metadata": {},
   "outputs": [
    {
     "name": "stdout",
     "output_type": "stream",
     "text": [
      "-32\n"
     ]
    }
   ],
   "source": [
    "print(sum(negatives))"
   ]
  },
  {
   "cell_type": "code",
   "execution_count": 11,
   "metadata": {},
   "outputs": [
    {
     "name": "stdout",
     "output_type": "stream",
     "text": [
      "48\n"
     ]
    }
   ],
   "source": [
    "print(sum(positives))"
   ]
  },
  {
   "cell_type": "markdown",
   "metadata": {},
   "source": [
    "**Exercise 3:** write a Python program to find the maximum, minimum and average values in a given heterogeneous list using lambda.\n",
    "\n",
    "**Output:**\n",
    "\n",
    "Original list: ['I', 'love' 3, 2, 4, 5, 'Python', 12]\n",
    "\n",
    "Maximum value: 12\n",
    "\n",
    "Minimum value: 2\n",
    "\n",
    "Average value: 5.2"
   ]
  },
  {
   "cell_type": "code",
   "execution_count": 13,
   "metadata": {},
   "outputs": [],
   "source": [
    "ol2 = ['I', 'love', 3, 2, 4, 5, 'Python', 12]"
   ]
  },
  {
   "cell_type": "code",
   "execution_count": 14,
   "metadata": {},
   "outputs": [
    {
     "data": {
      "text/plain": [
       "12"
      ]
     },
     "execution_count": 14,
     "metadata": {},
     "output_type": "execute_result"
    }
   ],
   "source": [
    "max(ol2, key = lambda i: (isinstance(i, int), i))"
   ]
  },
  {
   "cell_type": "code",
   "execution_count": 17,
   "metadata": {},
   "outputs": [
    {
     "data": {
      "text/plain": [
       "2"
      ]
     },
     "execution_count": 17,
     "metadata": {},
     "output_type": "execute_result"
    }
   ],
   "source": [
    "min(i for i in ol2 if isinstance(i, int))"
   ]
  }
 ],
 "metadata": {
  "kernelspec": {
   "display_name": "conda_amazonei_mxnet_p36",
   "language": "python",
   "name": "conda_amazonei_mxnet_p36"
  },
  "language_info": {
   "codemirror_mode": {
    "name": "ipython",
    "version": 3
   },
   "file_extension": ".py",
   "mimetype": "text/x-python",
   "name": "python",
   "nbconvert_exporter": "python",
   "pygments_lexer": "ipython3",
   "version": "3.6.13"
  },
  "vscode": {
   "interpreter": {
    "hash": "9fbb33e86ca55080a202fed700efde3fb4ffe3f46131e5b52201b9ba06ce5f72"
   }
  }
 },
 "nbformat": 4,
 "nbformat_minor": 4
}
